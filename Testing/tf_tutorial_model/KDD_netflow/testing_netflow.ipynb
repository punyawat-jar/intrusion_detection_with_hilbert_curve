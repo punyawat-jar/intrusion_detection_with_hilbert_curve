{
 "cells": [
  {
   "cell_type": "code",
   "execution_count": 1,
   "id": "7d93af17-6a63-4650-a5cf-9f70c413becd",
   "metadata": {},
   "outputs": [
    {
     "name": "stderr",
     "output_type": "stream",
     "text": [
      "Matplotlib created a temporary cache directory at /tmp/matplotlib-8sgp0cic because the default path (/home/jovyan/.cache/matplotlib) is not a writable directory; it is highly recommended to set the MPLCONFIGDIR environment variable to a writable directory, in particular to speed up the import of Matplotlib and to better support multiprocessing.\n"
     ]
    }
   ],
   "source": [
    "import os\n",
    "os.environ['TF_CPP_MIN_LOG_LEVEL'] = '2'\n",
    "os.environ[\"CUDA_VISIBLE_DEVICES\"] = \"0\"\n",
    "\n",
    "import matplotlib.pyplot as plt\n",
    "from matplotlib.lines import Line2D\n",
    "from matplotlib.colors import ListedColormap\n",
    "\n",
    "import numpy as np\n",
    "import pandas as pd\n",
    "from hilbertcurve.hilbertcurve import HilbertCurve\n",
    "import seaborn as sns\n",
    "\n",
    "import multiprocessing\n",
    "from multiprocessing import Value, Pool\n",
    "\n",
    "from sklearn.metrics import f1_score, precision_score, recall_score, confusion_matrix, roc_curve\n",
    "from sklearn.preprocessing import MinMaxScaler, StandardScaler\n",
    "import keras\n",
    "import tensorflow as tf\n",
    "\n",
    "from tqdm import tqdm\n",
    "\n",
    "import pickle\n",
    "import glob\n",
    "import requests, json\n",
    "import re\n",
    "from functools import partial\n",
    "from PIL import Image\n",
    "\n",
    "path = '/home/s2316002/Project2/'"
   ]
  },
  {
   "cell_type": "code",
   "execution_count": 2,
   "id": "866540b4-b8e9-4d91-934a-4ebb627f6b1e",
   "metadata": {},
   "outputs": [],
   "source": [
    "def read_newDB():\n",
    "    feature=[\"duration\",\"protocol_type\",\"service\",\"flag\",\"src_bytes\",\"dst_bytes\",\"land\",\"wrong_fragment\",\"urgent\",\"hot\",\n",
    "          \"num_failed_logins\",\"logged_in\",\"num_compromised\",\"root_shell\",\"su_attempted\",\"num_root\",\"num_file_creations\",\"num_shells\",\n",
    "          \"num_access_files\",\"num_outbound_cmds\",\"is_host_login\",\"is_guest_login\",\"count\",\"srv_count\",\"serror_rate\",\"srv_serror_rate\",\n",
    "          \"rerror_rate\",\"srv_rerror_rate\",\"same_srv_rate\",\"diff_srv_rate\",\"srv_diff_host_rate\",\"dst_host_count\",\"dst_host_srv_count\",\n",
    "          \"dst_host_same_srv_rate\",\"dst_host_diff_srv_rate\",\"dst_host_same_src_port_rate\",\"dst_host_srv_diff_host_rate\",\"dst_host_serror_rate\",\n",
    "          \"dst_host_srv_serror_rate\",\"dst_host_rerror_rate\",\"dst_host_srv_rerror_rate\",\"label\",\"difficulty\"]\n",
    "    \n",
    "    dftest = pd.read_csv('/home/s2316002/Project2/Dataset/KDDTest+.txt',names = feature)\n",
    "    \n",
    "    dftest.loc[dftest['label'] == \"normal\", \"label\"] = 0\n",
    "    dftest.loc[dftest['label'] != 0, \"label\"] = 1\n",
    "\n",
    "    dftest.label = dftest.label.astype('int')\n",
    "    dftest.to_csv('/home/s2316002/Project2/Dataset/KDDTest+.csv', index =False)\n",
    "\n",
    "    # scaler = MinMaxScaler()\n",
    "    # dftest[dftest.columns] = scaler.fit_transform(dftest[dftest.columns])\n",
    "    \n",
    "    return dftest\n",
    "\n",
    "def read_DB():\n",
    "    return pd.read_csv('/home/s2316002/Project2/Dataset/KDDTrain+.csv')"
   ]
  },
  {
   "cell_type": "code",
   "execution_count": 3,
   "id": "8db78a54-dad6-4ac6-bfaf-9ae05d1eb7f8",
   "metadata": {},
   "outputs": [],
   "source": [
    "def load_image(filename):\n",
    "    if filename.endswith(\".jpg\") or filename.endswith(\".png\"):\n",
    "        with Image.open(filename).convert('L') as img:\n",
    "            if img is not None:\n",
    "                return filename, np.array(img)\n",
    "\n",
    "def load_images_from_folder(folder):\n",
    "    pool = Pool(5)\n",
    "    images = pool.map(load_image, sorted(glob.glob(os.path.join(folder, '*.[jp][np]g'))))\n",
    "    pool.close()\n",
    "    pool.join()\n",
    "    # Sort images based on filename\n",
    "    images = sorted(images, key=lambda x: int(re.findall(r'\\d+', x[0].split('/')[-1])[0]))\n",
    "    # Remove filenames\n",
    "    images = [img for _, img in images]\n",
    "    return images\n",
    "    \n",
    "def plot_image(image):\n",
    "    plt.imshow(image, cmap='gray')\n",
    "    plt.axis('on')  # Turn off axes\n",
    "    plt.subplots_adjust(left=0, right=1, top=1, bottom=0)  # Eliminate margins"
   ]
  },
  {
   "cell_type": "code",
   "execution_count": 4,
   "id": "a64d4cb0-7476-4d94-b843-d8013c2254c7",
   "metadata": {},
   "outputs": [],
   "source": [
    "model = keras.models.load_model(path+'/Model/netflow_hilbert.h5')"
   ]
  },
  {
   "cell_type": "code",
   "execution_count": 5,
   "id": "88909f17-1ce3-47a4-8695-d9c96d2c0c06",
   "metadata": {},
   "outputs": [],
   "source": [
    "test_image = load_images_from_folder(path + 'netflow/TestImages')\n",
    "test_image = np.array(test_image)"
   ]
  },
  {
   "cell_type": "code",
   "execution_count": 6,
   "id": "0a5d0246-f25a-4c10-9352-642acd0c7a8c",
   "metadata": {},
   "outputs": [],
   "source": [
    "test = read_newDB()\n",
    "y_test = test.label\n",
    "y_test = y_test[63:]"
   ]
  },
  {
   "cell_type": "code",
   "execution_count": 7,
   "id": "1f0d2fa3-f2a6-4843-9080-3216d6427a5a",
   "metadata": {},
   "outputs": [
    {
     "name": "stdout",
     "output_type": "stream",
     "text": [
      "Test loss: 19.096593856811523\n",
      "Test accuracy: 0.726213276386261\n",
      "Test mse: 11204654.0\n"
     ]
    }
   ],
   "source": [
    "results = model.evaluate(test_image, y_test, verbose=0)\n",
    "\n",
    "# Results is a list with the loss and all the metrics\n",
    "print('Test loss:', results[0])\n",
    "\n",
    "# If you have multiple metrics, they will be in the rest of the list\n",
    "for i in range(1, len(model.metrics_names)):\n",
    "    print(f'Test {model.metrics_names[i]}:', results[i])"
   ]
  },
  {
   "cell_type": "code",
   "execution_count": 8,
   "id": "a10960dc-67d5-4db9-a9b6-afed8c6aedbe",
   "metadata": {},
   "outputs": [
    {
     "name": "stdout",
     "output_type": "stream",
     "text": [
      "703/703 [==============================] - 3s 4ms/step\n",
      "F1 score:  0.6918031145160484\n",
      "Precision:  0.9634588563458857\n",
      "Recall:  0.5396453402077963\n",
      "Confusion Matrix: \n",
      " [[9418  262]\n",
      " [5893 6908]]\n",
      "FPR:  0.02706611570247934\n",
      "FNR:  0.46035465979220375\n",
      "TPR:  0.5396453402077963\n",
      "TNR:  0.9729338842975207\n"
     ]
    }
   ],
   "source": [
    "y_pred_probs = model.predict(test_image)\n",
    "y_pred = (y_pred_probs > 0.5).astype('int32')\n",
    "\n",
    "# Calculate metrics\n",
    "f1 = f1_score(y_test, y_pred, average='binary')\n",
    "precision = precision_score(y_test, y_pred, average='binary')\n",
    "recall = recall_score(y_test, y_pred, average='binary')\n",
    "\n",
    "# Confusion Matrix\n",
    "cm = confusion_matrix(y_test, y_pred)\n",
    "\n",
    "# True positives, False positives, etc\n",
    "TP = cm[1,1]\n",
    "TN = cm[0,0]\n",
    "FP = cm[0,1]\n",
    "FN = cm[1,0]\n",
    "\n",
    "# True positive rate (sensitivity or recall)\n",
    "TPR = TP / (TP + FN)\n",
    "# True negative rate (specificity)\n",
    "TNR = TN / (TN + FP)\n",
    "# False positive rate (1 - specificity)\n",
    "FPR = FP / (TN + FP)\n",
    "# False negative rate (1 - sensitivity)\n",
    "FNR = FN / (TP + FN)\n",
    "\n",
    "# Print metrics\n",
    "print(\"F1 score: \", f1)\n",
    "print(\"Precision: \", precision)\n",
    "print(\"Recall: \", recall)\n",
    "print(\"Confusion Matrix: \\n\", cm)\n",
    "print(\"FPR: \", FPR)\n",
    "print(\"FNR: \", FNR)\n",
    "print(\"TPR: \", TPR)\n",
    "print(\"TNR: \", TNR)"
   ]
  },
  {
   "cell_type": "code",
   "execution_count": 9,
   "id": "563a8b61-1b96-4c31-8221-0801d4a0575b",
   "metadata": {},
   "outputs": [
    {
     "data": {
      "image/png": "[encoded data removed]",
      "text/plain": [
       "<Figure size 800x600 with 1 Axes>"
      ]
     },
     "metadata": {},
     "output_type": "display_data"
    }
   ],
   "source": [
    "# Confusion matrix\n",
    "cm = [[TN, FP],\n",
    "      [FN, TP]]\n",
    "# Create a heatmap\n",
    "plt.figure(figsize=(8,6))\n",
    "sns.heatmap(cm, annot=True, fmt='d', cmap='Blues', cbar=False, annot_kws={\"size\": 16})\n",
    "\n",
    "# Labels, title and ticks\n",
    "label_font = {'size':'16'}  # Adjust to fit\n",
    "plt.xlabel('Predicted labels', fontdict=label_font)\n",
    "plt.ylabel('True labels', fontdict=label_font)\n",
    "plt.title('Confusion Matrix', fontdict=label_font)\n",
    "\n",
    "plt.show()\n"
   ]
  },
  {
   "cell_type": "code",
   "execution_count": null,
   "id": "d36774d6-fa7f-48ea-94f8-3f6f2c4f2163",
   "metadata": {},
   "outputs": [],
   "source": []
  }
 ],
 "metadata": {
  "kernelspec": {
   "display_name": "Python 3 (ipykernel)",
   "language": "python",
   "name": "python3"
  },
  "language_info": {
   "codemirror_mode": {
    "name": "ipython",
    "version": 3
   },
   "file_extension": ".py",
   "mimetype": "text/x-python",
   "name": "python",
   "nbconvert_exporter": "python",
   "pygments_lexer": "ipython3",
   "version": "3.11.4"
  }
 },
 "nbformat": 4,
 "nbformat_minor": 5
}
